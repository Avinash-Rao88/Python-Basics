{
 "cells": [
  {
   "cell_type": "markdown",
   "id": "86534f36",
   "metadata": {},
   "source": [
    "### Q1. Explain Python Tokens & Data Types with the help of Example.\n",
    "\n",
    "Tokens:\n",
    "A token is the smallest individual unit in a Python program. All statements and instructions in a program are built with tokens. \n",
    "The various tokens in Python are:\n",
    "\n",
    "Keywords: Keywords are words that have some special meaning or significance in a programming language. \n",
    "They can’t be used as variable names, function names, or any other random purpose. They are used for their special features. \n",
    "In Python we have 33 keywords some of them are: try, False, True, class, break, continue, and, as, assert, while, for, in, \n",
    "raise, except, or, not, if, elif, print, import, etc.\n",
    "\n",
    "Identifiers: Identifiers are the names given to any variable, function, class, list, methods, etc. for their identification. \n",
    "Python is a case-sensitive language and it has some rules and regulations to name an identifier. \n",
    "Here are some rules to name an identifier:\n",
    "\n",
    "Literals: Literals are constants that represent fixed values. There are several types of literals in Python:\n",
    "*Integer Literals: Examples: 42, -123.\n",
    "*Floating-Point Literals: Examples: 3.14, -0.01.\n",
    "*String Literals: Examples: \"Hello, World\", 'Python'.\n",
    "*Boolean Literals: Examples: True, False.\n",
    "*None Literal: Example: None.\n",
    "*Operators: Operators perform operations on variables and values. Examples include +, -, *, /, ==, !=, and, or.\n",
    "\n",
    "Punctuation Symbols: These include various symbols and characters used in the code, such as parentheses (), curly braces {}, \n",
    "square brackets [], commas ,, colons :, and semicolons ;."
   ]
  },
  {
   "cell_type": "markdown",
   "id": "40da6216",
   "metadata": {},
   "source": [
    "### Data Types:\n",
    "Numeric: Numeric data types are used to store numeric values. There are three numeric data types in Python: int, float, and \n",
    "complex. \n",
    "* int holds signed integers of non-limited length \n",
    "* float holds floating decimal points and is accurate up to 15 decimal places\n",
    "* complex holds complex numbers."
   ]
  },
  {
   "cell_type": "code",
   "execution_count": 3,
   "id": "0ef7e50c",
   "metadata": {},
   "outputs": [
    {
     "name": "stdout",
     "output_type": "stream",
     "text": [
      "5 is of type <class 'int'>\n",
      "2.0 is of type <class 'float'>\n",
      "(1+2j) is of type <class 'complex'>\n"
     ]
    }
   ],
   "source": [
    "#Example of Numeric Data Type:\n",
    "a = 5\n",
    "print(a, 'is of type', type(a))\n",
    "\n",
    "b = 2.0\n",
    "print(b, 'is of type', type(b))\n",
    "\n",
    "c = 1+2j\n",
    "print(c, 'is of type', type(c))"
   ]
  },
  {
   "cell_type": "markdown",
   "id": "78e4e66e",
   "metadata": {},
   "source": [
    "### String: Strings are used to store text data. In this '',\" \" and ''' ''' can be use. They are defined as str class in Python."
   ]
  },
  {
   "cell_type": "code",
   "execution_count": 4,
   "id": "0c876c6c",
   "metadata": {},
   "outputs": [
    {
     "name": "stdout",
     "output_type": "stream",
     "text": [
      "Avinash is of type <class 'str'>\n"
     ]
    }
   ],
   "source": [
    "#Example of String Data Type\n",
    "name = \"Avinash\"\n",
    "print(name, 'is of type', type(name))"
   ]
  },
  {
   "cell_type": "markdown",
   "id": "efdda88a",
   "metadata": {},
   "source": [
    "### List: Lists are used to store a collection of items separated by commas and enclosed within square brackets []. They can contain elements of different data types."
   ]
  },
  {
   "cell_type": "code",
   "execution_count": 5,
   "id": "c9f736a0",
   "metadata": {},
   "outputs": [
    {
     "name": "stdout",
     "output_type": "stream",
     "text": [
      "['apple', 'banana', 'cherry'] is of type <class 'list'>\n"
     ]
    }
   ],
   "source": [
    "#Example of List Data Type\n",
    "fruits = [\"apple\", \"banana\", \"cherry\"]\n",
    "print(fruits, 'is of type', type(fruits))"
   ]
  },
  {
   "cell_type": "markdown",
   "id": "506303eb",
   "metadata": {},
   "source": [
    "### Tuple: Tuples are similar to lists but they are immutable, which means that once created, they cannot be modified. They are defined as tuple class in Python."
   ]
  },
  {
   "cell_type": "code",
   "execution_count": 6,
   "id": "94064188",
   "metadata": {},
   "outputs": [
    {
     "name": "stdout",
     "output_type": "stream",
     "text": [
      "('apple', 'banana', 'cherry') is of type <class 'tuple'>\n"
     ]
    }
   ],
   "source": [
    "#Example\n",
    "fruits = (\"apple\", \"banana\", \"cherry\")\n",
    "print(fruits, 'is of type', type(fruits))"
   ]
  },
  {
   "cell_type": "markdown",
   "id": "c83070c9",
   "metadata": {},
   "source": [
    "### Dictionary: Dictionaries are used to store key-value pairs separated by commas and enclosed within curly braces {}. They can contain elements of different data types. Here’s an example: "
   ]
  },
  {
   "cell_type": "code",
   "execution_count": 7,
   "id": "d48ff418",
   "metadata": {},
   "outputs": [
    {
     "name": "stdout",
     "output_type": "stream",
     "text": [
      "{'name': 'John', 'age': 36} is of type <class 'dict'>\n"
     ]
    }
   ],
   "source": [
    "#Example\n",
    "person = {\"name\": \"John\", \"age\": 36}\n",
    "print(person, 'is of type', type(person))"
   ]
  },
  {
   "cell_type": "markdown",
   "id": "58c725d8",
   "metadata": {},
   "source": [
    "### Boolean: Boolean data types can only have two values: True or False. They are defined as bool class in Python. Here’s an example: "
   ]
  },
  {
   "cell_type": "code",
   "execution_count": 8,
   "id": "6111c2e3",
   "metadata": {},
   "outputs": [
    {
     "name": "stdout",
     "output_type": "stream",
     "text": [
      "True is of type <class 'bool'>\n"
     ]
    }
   ],
   "source": [
    "#Example\n",
    "x = True\n",
    "print(x, 'is of type', type(x))"
   ]
  },
  {
   "cell_type": "code",
   "execution_count": null,
   "id": "2791792a",
   "metadata": {},
   "outputs": [],
   "source": []
  },
  {
   "cell_type": "markdown",
   "id": "6a42b252",
   "metadata": {},
   "source": [
    "### Q2. You’re a Data Scientist. You have assigned a task to perform. Create two lists a & b, where a has values -> (11,89,41,32,77,90) and b has values -> (95,24,39,15,74,22). Compare the corresponding element values of both the lists and print “a element value is greater than b element value” if corresponding value from a is greater else print “a element value is less than b element value” if corresponding value from a is less than b. "
   ]
  },
  {
   "cell_type": "code",
   "execution_count": 25,
   "id": "aa9f8178",
   "metadata": {},
   "outputs": [
    {
     "name": "stdout",
     "output_type": "stream",
     "text": [
      "a element value 11 is less than b element value 95\n",
      "a element value 89 is greater than b element value 24\n",
      "a element value 41 is greater than b element value 39\n",
      "a element value 32 is greater than b element value 15\n",
      "a element value 77 is greater than b element value 74\n",
      "a element value 90 is greater than b element value 22\n"
     ]
    }
   ],
   "source": [
    "a = [11, 89, 41, 32, 77, 90]\n",
    "b = [95, 24, 39, 15, 74, 22]\n",
    "if len(a) == len(b):\n",
    "    for i in range(len(a)):\n",
    "        if a[i] > b[i]:\n",
    "            print('a element value', a[i] ,'is greater than b element value', b[i])\n",
    "        else:\n",
    "            print('a element value', a[i] , 'is less than b element value', b[i])"
   ]
  },
  {
   "cell_type": "code",
   "execution_count": null,
   "id": "14626c38",
   "metadata": {},
   "outputs": [],
   "source": []
  },
  {
   "cell_type": "markdown",
   "id": "bbdad077",
   "metadata": {},
   "source": [
    "### Q3. Write code to create a class named Calculator. • Define methods for addition, subtraction, multiplication and division that take in two numbers and return another number after Performing their respective operations. Define  another method named execute command that takes two numbers and a string named command. The command  string will be ‘add’, ‘sub’, ‘mul’, ‘div’. Perform Addition, Subtraction, Multiplication and Division on the two numbers respectively. Make sure the execute command method is case insensitive (meaning that even if the user passes ‘aDd’ as command it should perform addition on two numbers). "
   ]
  },
  {
   "cell_type": "code",
   "execution_count": 11,
   "id": "27ad9695",
   "metadata": {},
   "outputs": [
    {
     "name": "stdout",
     "output_type": "stream",
     "text": [
      "Addition: 95\n",
      "Subtraction: 6\n",
      "Multiplication: 72\n",
      "Division: 4.0\n"
     ]
    }
   ],
   "source": [
    "class Calculator:\n",
    "    def execute_command(n, num1, num2, command):\n",
    "        command = command.lower()\n",
    "        if command == 'add':\n",
    "            return num1 + num2\n",
    "        elif command == 'sub':\n",
    "            return num1 - num2\n",
    "        elif command == 'mul':\n",
    "            return num1 * num2\n",
    "        elif command == 'div':\n",
    "            if num2 == 0:\n",
    "                return 'Error'\n",
    "            return num1 / num2\n",
    "        else:\n",
    "            return 'Invalid command'\n",
    "calc = Calculator()\n",
    "result1 = calc.execute_command(56, 39, 'add')\n",
    "result2 = calc.execute_command(100, 94, 'sub')\n",
    "result3 = calc.execute_command(8, 9, 'mul')\n",
    "result4 = calc.execute_command(8, 2, 'div')\n",
    "print('Addition:', result1)\n",
    "print('Subtraction:', result2)\n",
    "print('Multiplication:', result3)\n",
    "print('Division:', result4)"
   ]
  },
  {
   "cell_type": "code",
   "execution_count": null,
   "id": "5efb8f15",
   "metadata": {},
   "outputs": [],
   "source": []
  },
  {
   "cell_type": "markdown",
   "id": "13bc4d23",
   "metadata": {},
   "source": [
    "### Q4.  Create a program to take numbers and store them in a list and Print a Square of numbers as tuple. "
   ]
  },
  {
   "cell_type": "code",
   "execution_count": 16,
   "id": "eaf9054e",
   "metadata": {},
   "outputs": [
    {
     "name": "stdout",
     "output_type": "stream",
     "text": [
      "Enter the number of elements: 2\n",
      "Enter number 1. : 7\n",
      "Enter number 2. : 5\n",
      "Numbers and their squares: \n",
      "7.0 squared is 49.0\n",
      "5.0 squared is 25.0\n"
     ]
    }
   ],
   "source": [
    "numbers = []\n",
    "a = int(input('Enter the number of elements: '))\n",
    "for i in range(a):\n",
    "    b = float(input('Enter number '+str(i+1)+'. : ' ))\n",
    "    numbers.append(b)\n",
    "squares = [(b, b ** 2) for b in numbers]\n",
    "print('Numbers and their squares: ')\n",
    "for b, square in squares:\n",
    "    print(b, 'squared is', square)"
   ]
  },
  {
   "cell_type": "code",
   "execution_count": null,
   "id": "cd478fdc",
   "metadata": {},
   "outputs": [],
   "source": []
  },
  {
   "cell_type": "markdown",
   "id": "0dac0270",
   "metadata": {},
   "source": [
    "### Q5. Write a Function to check if the year number is a leap year or not. Print all Leap Years of 21st Century. "
   ]
  },
  {
   "cell_type": "code",
   "execution_count": 12,
   "id": "1ce1d33f",
   "metadata": {},
   "outputs": [
    {
     "name": "stdout",
     "output_type": "stream",
     "text": [
      "Enter Year: 2024\n",
      "Year is Leap Year\n",
      "All Leap Years of 21st Century are: \n",
      "2000\n",
      "2004\n",
      "2008\n",
      "2012\n",
      "2016\n",
      "2020\n",
      "2024\n",
      "2028\n",
      "2032\n",
      "2036\n",
      "2040\n",
      "2044\n",
      "2048\n",
      "2052\n",
      "2056\n",
      "2060\n",
      "2064\n",
      "2068\n",
      "2072\n",
      "2076\n",
      "2080\n",
      "2084\n",
      "2088\n",
      "2092\n",
      "2096\n"
     ]
    }
   ],
   "source": [
    "year = int(input('Enter Year: '))\n",
    "if year %4==0:\n",
    "    print('Year is Leap Year')\n",
    "else:\n",
    "    print('Year is not Leap Year')\n",
    "print('All Leap Years of 21st Century are: ')\n",
    "for i in range(2000, 2100):\n",
    "    if i%4==0:\n",
    "        print(i)"
   ]
  },
  {
   "cell_type": "code",
   "execution_count": null,
   "id": "e59af3a5",
   "metadata": {},
   "outputs": [],
   "source": []
  },
  {
   "cell_type": "markdown",
   "id": "9a19d0e2",
   "metadata": {},
   "source": [
    "### Q6. . Write a Function to take an array and return another array that contains the members of the first array that are even in one array and odd in another array. "
   ]
  },
  {
   "cell_type": "code",
   "execution_count": 17,
   "id": "bb2a555d",
   "metadata": {},
   "outputs": [
    {
     "name": "stdout",
     "output_type": "stream",
     "text": [
      "Even numbers: [2, 4, 6, 8, 10, 12, 14, 16, 18, 20]\n",
      "Odd numbers: [1, 3, 5, 7, 9, 11, 13, 15, 17, 19]\n"
     ]
    }
   ],
   "source": [
    "def array(a):\n",
    "    en = []\n",
    "    on = []\n",
    "    for i in a:\n",
    "        if i%2 == 0:\n",
    "            en.append(i)\n",
    "        else:\n",
    "            on.append(i)\n",
    "    return en, on\n",
    "a = [1, 2, 3, 4, 5, 6, 7, 8, 9, 10, 11, 12, 13, 14, 15, 16, 17, 18, 19, 20]\n",
    "even, odd = array(a)\n",
    "print(\"Even numbers:\", even)\n",
    "print(\"Odd numbers:\", odd)"
   ]
  },
  {
   "cell_type": "code",
   "execution_count": null,
   "id": "a58598e9",
   "metadata": {},
   "outputs": [],
   "source": []
  },
  {
   "cell_type": "markdown",
   "id": "6c64f461",
   "metadata": {},
   "source": [
    "###  Q7. Write a python code to print the following pattern. "
   ]
  },
  {
   "cell_type": "code",
   "execution_count": 14,
   "id": "95d8eb30",
   "metadata": {},
   "outputs": [
    {
     "name": "stdout",
     "output_type": "stream",
     "text": [
      "1 \n",
      "1 2 \n",
      "1 2 3 \n",
      "1 2 3 4 \n",
      "1 2 3 4 5 \n"
     ]
    }
   ],
   "source": [
    "n=5\n",
    "for i in range(1, n+1):\n",
    "    for j in range(1, i+1):\n",
    "        print(j, end=' ')\n",
    "    print()        "
   ]
  },
  {
   "cell_type": "code",
   "execution_count": null,
   "id": "d7a4d390",
   "metadata": {},
   "outputs": [],
   "source": []
  }
 ],
 "metadata": {
  "kernelspec": {
   "display_name": "Python 3 (ipykernel)",
   "language": "python",
   "name": "python3"
  },
  "language_info": {
   "codemirror_mode": {
    "name": "ipython",
    "version": 3
   },
   "file_extension": ".py",
   "mimetype": "text/x-python",
   "name": "python",
   "nbconvert_exporter": "python",
   "pygments_lexer": "ipython3",
   "version": "3.11.5"
  }
 },
 "nbformat": 4,
 "nbformat_minor": 5
}
